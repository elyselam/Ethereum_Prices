{
  "cells": [
    {
      "cell_type": "markdown",
      "metadata": {
        "_cell_guid": "d4288907-121a-4cbf-3d67-bc2d0eefbd1c",
        "_uuid": "67e887db64c4c98ed50d95134d4fdbb7249e4224"
      },
      "source": [
        "Welcome to my kernel in the dataset I uploaded"
      ]
    },
    {
      "cell_type": "markdown",
      "metadata": {
        "_cell_guid": "236ce532-fd25-6956-6dcf-f51f91b95230",
        "_uuid": "87bae4dfc81d9f8436f2ef518af232dbb121a1ae"
      },
      "source": [
        "#First:#\n",
        "\n",
        " - grab dependencies"
      ]
    },
    {
      "cell_type": "code",
      "execution_count": null,
      "metadata": {
        "_cell_guid": "35c853c3-5f91-086b-bb10-b338a82fbb3f",
        "_uuid": "f4cc612d8dbde26fe9b081899fb9efeee6539ce7"
      },
      "outputs": [],
      "source": [
        "import numpy as np # linear algebra\n",
        "import pandas as pd # data processing, CSV file I/O (e.g. pd.read_csv)\n",
        "import datetime as dt # converting timestamp to date\n",
        "import seaborn as sns # Visualizer for data\n",
        "import matplotlib.pyplot as plt # matplot\n",
        "import matplotlib.dates as mdates # for plotting dates\n",
        "%matplotlib inline\n",
        "from subprocess import check_output\n",
        "# What are we working with?\n",
        "print('File: \\n', check_output([\"ls\", \"../input\"]).decode(\"utf8\"))"
      ]
    },
    {
      "cell_type": "markdown",
      "metadata": {
        "_cell_guid": "9e988d27-7886-254f-ca4f-bcde8bc68077",
        "_uuid": "4f2ac84e65dc9b9104c29651bdfc3854c2f12e52"
      },
      "source": [
        "#We are going to take the CSVs one at a time and create a DataFrame for each of them#"
      ]
    },
    {
      "cell_type": "code",
      "execution_count": null,
      "metadata": {
        "_cell_guid": "c356e86c-0e04-19db-b07c-c57eb42bbf40",
        "_uuid": "1cfad1a40134c07feb98b511080af34d1a881e63"
      },
      "outputs": [],
      "source": [
        "# Chances are I wont get to all of them so you can comment out the ones you dont want\n",
        "address = pd.read_csv('../input/address.csv')\n",
        "blocksize = pd.read_csv('../input/blocksize.csv')\n",
        "etherprice = pd.read_csv('../input/etherprice.csv')\n",
        "hashrate = pd.read_csv('../input/hashrate.csv')\n",
        "marketcap = pd.read_csv('../input/marketcap.csv')\n",
        "tx = pd.read_csv('../input/tx.csv')"
      ]
    },
    {
      "cell_type": "markdown",
      "metadata": {
        "_cell_guid": "274715da-4546-8de7-590c-c4dd55079de6",
        "_uuid": "271435789debe715bc0120ba13a7b461985e9274"
      },
      "source": [
        "#We are going to want a method that converts the timestamp to readable data#"
      ]
    },
    {
      "cell_type": "code",
      "execution_count": null,
      "metadata": {
        "_cell_guid": "0339f6cc-db41-8388-037b-8a2025c0bf97",
        "_uuid": "15724a8b6fc0f08ee4f180751773d477948c5faa"
      },
      "outputs": [],
      "source": [
        "# the timestamp in the method is a dataframe column\n",
        "# it returns a list of the format which can then be ploted if needed\n",
        "def timeConvert(timestamps):\n",
        "    timeValue = list(range(len(timestamps)))\n",
        "    for i in range(len(timestamps)):\n",
        "        timeValue[i] = (dt.datetime.fromtimestamp(timestamps[i]).strftime('%Y-%m-%d'))\n",
        "    return timeValue;"
      ]
    },
    {
      "cell_type": "markdown",
      "metadata": {
        "_cell_guid": "58d2d4be-1493-5a3d-c8be-f991731b2043",
        "_uuid": "a9474db56bcf587b404230ee341bffa49fab1f09"
      },
      "source": [
        "#It seems the most reasonable thing to do is plot the prices!#\n",
        "Note: they are USD, sorry foreigners"
      ]
    },
    {
      "cell_type": "code",
      "execution_count": null,
      "metadata": {
        "_cell_guid": "f244abfa-cf23-3107-7d74-52ba51590b70",
        "_uuid": "77cb88a4faee3d9a0345712ac7031909e8ae69d5"
      },
      "outputs": [],
      "source": [
        "# Lets see:\n",
        "etherprice.columns"
      ]
    },
    {
      "cell_type": "code",
      "execution_count": null,
      "metadata": {
        "_cell_guid": "1e24b581-4c94-f5e6-6a36-5cf16bff2192",
        "_uuid": "f24835d021a393202e6c9a77b30fffe09a10a81c"
      },
      "outputs": [],
      "source": [
        "etherprice['date-time'] = pd.DataFrame(timeConvert(etherprice['date-time']))\n",
        "# comment out above if you want to use timestamp\n",
        "etherprice.head()\n",
        "#there we go!"
      ]
    },
    {
      "cell_type": "markdown",
      "metadata": {
        "_cell_guid": "3dfab7b9-66c1-1cec-e2f2-9e5e2630a2d7",
        "_uuid": "4f791a6225e74fa5f56acbb3cf4b7dafe3b0a070"
      },
      "source": [
        "#Lets make a method to plot data(s)#"
      ]
    },
    {
      "cell_type": "code",
      "execution_count": null,
      "metadata": {
        "_cell_guid": "af2428c6-4d07-ff7c-b278-76ebed909116",
        "_uuid": "84f80ec99894d4d91915130e89a8d47c4d85c1af"
      },
      "outputs": [],
      "source": [
        "def plotit(data):\n",
        "    # makes numpy array\n",
        "    r = data.values.view(np.recarray)\n",
        "    #grab y-datas\n",
        "    df = r[:,1]\n",
        "    #crops to dates\n",
        "    r = r[:,0]\n",
        "    # to datetime\n",
        "    r = pd.to_datetime(r)\n",
        "    # make new plots\n",
        "    plt.style.use('ggplot')\n",
        "    fig, ax = plt.subplots(figsize=(15, 7))\n",
        "    ax.plot(r, df)\n",
        "    ax.grid(False)\n",
        "    # matplotlib date format object\n",
        "    hfmt = mdates.DateFormatter('%Y - - %m')\n",
        "    # format the ticks\n",
        "    ax.xaxis.set_major_locator(mdates.MonthLocator())\n",
        "    ax.xaxis.set_major_formatter(hfmt)\n",
        "    # format the coords message box\n",
        "    def yvals(x):\n",
        "        return '$%1.2f' % x\n",
        "    ax.format_xdata = hfmt\n",
        "    ax.format_ydata = yvals\n",
        "    # rotates and right aligns the x labels, and moves the bottom of the\n",
        "    # axes up to make room for them\n",
        "    fig.autofmt_xdate()\n",
        "    plt.show()"
      ]
    },
    {
      "cell_type": "code",
      "execution_count": null,
      "metadata": {
        "_cell_guid": "64b39e7d-153e-fabd-abbb-bf39f4772de6",
        "_uuid": "c571343580100c8a149c894837bfc076c888fc27"
      },
      "outputs": [],
      "source": [
        "plotit(etherprice)"
      ]
    },
    {
      "cell_type": "code",
      "execution_count": null,
      "metadata": {
        "_cell_guid": "690cf32e-1d03-721b-9500-19762dd40917",
        "_uuid": "ae024ed91501e7152978a4e19a663e0dab810bc1"
      },
      "outputs": [],
      "source": [
        "address['date-time']=pd.DataFrame(timeConvert(address['date-time']))\n",
        "plotit(address)"
      ]
    },
    {
      "cell_type": "code",
      "execution_count": null,
      "metadata": {
        "_cell_guid": "2d311d33-519b-2f30-c630-2b0b804f1933",
        "_uuid": "f9a448701ce550617170083d200aa3ee1158ecd6"
      },
      "outputs": [],
      "source": [
        "blocksize['date-time']=pd.DataFrame(timeConvert(blocksize['date-time']))\n",
        "plotit(blocksize)"
      ]
    },
    {
      "cell_type": "code",
      "execution_count": null,
      "metadata": {
        "_cell_guid": "770fb001-fcf6-ac8d-bdcb-9b661249c337",
        "_uuid": "7b6af78b1cf4a6d228ca8f6df4b4321810437ba2"
      },
      "outputs": [],
      "source": [
        "hashrate['date-time']=pd.DataFrame(timeConvert(hashrate['date-time']))\n",
        "plotit(hashrate)"
      ]
    },
    {
      "cell_type": "code",
      "execution_count": null,
      "metadata": {
        "_cell_guid": "0cbfb82a-5bde-d5e5-6298-9a4472014932",
        "_uuid": "dcf93e0b4c0917db58fd24f13b8cde710f4584e4"
      },
      "outputs": [],
      "source": [
        "tx['date-time']=pd.DataFrame(timeConvert(tx['date-time']))\n",
        "plotit(tx)"
      ]
    },
    {
      "cell_type": "code",
      "execution_count": null,
      "metadata": {
        "_cell_guid": "b419f49d-45c3-d6dd-66ab-6332629a1959",
        "_uuid": "69d847ce921adf5d6ff55a8839220de81b9c4f52"
      },
      "outputs": [],
      "source": [
        "tx['date-time'] = pd.to_datetime(tx['date-time'])\n",
        "tx.info()"
      ]
    },
    {
      "cell_type": "code",
      "execution_count": null,
      "metadata": {
        "_cell_guid": "161504f6-9fca-54f5-3a7a-f33e7cb8316c",
        "_uuid": "47fe039ad3456989a5d1e74219a7636a34011813"
      },
      "outputs": [],
      "source": [
        "txs = tx.copy()\n",
        "txs['date-time'] = txs['date-time'].dt.year\n",
        "txs = txs.groupby('date-time')['amt-transactions-on-day'].apply(lambda x: (x.unique().sum()))\n",
        "txs"
      ]
    },
    {
      "cell_type": "code",
      "execution_count": null,
      "metadata": {
        "_cell_guid": "2443b5ff-845e-a40f-48f5-03020cd8419d",
        "_uuid": "45319eea5c37044c7d2a44f337e816d4fa07e2d4"
      },
      "outputs": [],
      "source": [
        "fig, ax = plt.subplots(figsize=(7, 7))\n",
        "shap = txs\n",
        "labels = '2015','2016','2017'\n",
        "explode = (0, 0, 0.1)\n",
        "ax.pie(shap, explode=explode, labels=labels, shadow=True)\n",
        "plt.title('Transactions per year')\n",
        "plt.show()"
      ]
    },
    {
      "cell_type": "code",
      "execution_count": null,
      "metadata": {
        "_cell_guid": "08168610-d646-0ca7-972b-2a477356723f",
        "_uuid": "a8598fa6ccdf7f5331c2ee885a2587233733875b"
      },
      "outputs": [],
      "source": [
        "data = pd.read_csv('../input/all_data.csv')\n",
        "data.head()"
      ]
    },
    {
      "cell_type": "markdown",
      "metadata": {
        "_cell_guid": "47c9d835-4029-69a4-e364-c767b7bc4452",
        "_uuid": "40c316369a1d6da69edfd88f77890cf0b1edc4ac"
      },
      "source": [
        "#Good stuff, obviously there is so much more we could do with this#"
      ]
    },
    {
      "cell_type": "markdown",
      "metadata": {
        "_cell_guid": "3ff9c125-32aa-a9bd-f28c-a274a60be040",
        "_uuid": "9e54b3adfea6dd8c46cf90b6cde29b8aea9d8af5"
      },
      "source": [
        "# Outputs are in bold #\n",
        "\n",
        "# Machine learning (can't use kaggle):#\n",
        "    from keras.layers.core import Dense, Activation, Dropout\n",
        "    from keras.layers.recurrent import LSTM\n",
        "    from keras.models import Sequential\n",
        "    import lstm, time #helper libraries\n",
        "**Using TensorFlow backend.**\n",
        "\n",
        "    # Load data\n",
        "    X_train, y_train, X_test, y_test = lstm.load_data('../input/ether.csv', 30, True)\n",
        "\n",
        "\n",
        "    # Build model\n",
        "    model = Sequential()\n",
        "    \n",
        "    model.add(LSTM(\n",
        "        input_dim=1,\n",
        "        output_dim=30,\n",
        "        return_sequences=True,))\n",
        "    model.add(Dropout(0.14))\n",
        "    \n",
        "    model.add(LSTM(\n",
        "        100,\n",
        "        return_sequences=False))\n",
        "    model.add(Dropout(0.14))\n",
        "    model.add(Dense(\n",
        "        output_dim=1))\n",
        "    model.add(Activation('linear'))\n",
        "    \n",
        "    start = time.time()\n",
        "    model.compile(loss='mse', optimizer='rmsprop')\n",
        "    print('Compilation time: ', time.time()-start)\n",
        "**Compilation time:  0.010754108428955078**\n",
        "\n",
        "    # Train model\n",
        "    model.fit(\n",
        "        X_train,\n",
        "        y_train,\n",
        "        batch_size=512,\n",
        "        nb_epoch=10,\n",
        "        validation_split=0.05)\n",
        "\n",
        "**Train on 498 samples, validate on 27 samples\n",
        "Epoch 1/10\n",
        "498/498 [==============================] - 0s - loss: 0.6696 - val_loss: 1.0974\n",
        "Epoch 2/10\n",
        "498/498 [==============================] - 0s - loss: 0.4631 - val_loss: 0.8331\n",
        "Epoch 3/10\n",
        "498/498 [==============================] - 0s - loss: 0.3102 - val_loss: 0.5372\n",
        "Epoch 4/10\n",
        "498/498 [==============================] - 0s - loss: 0.1673 - val_loss: 0.3015\n",
        "Epoch 5/10\n",
        "498/498 [==============================] - 0s - loss: 0.1224 - val_loss: 0.4458\n",
        "Epoch 6/10\n",
        "498/498 [==============================] - 0s - loss: 0.1267 - val_loss: 0.2709\n",
        "Epoch 7/10\n",
        "498/498 [==============================] - 0s - loss: 0.1037 - val_loss: 0.3876\n",
        "Epoch 8/10\n",
        "498/498 [==============================] - 0s - loss: 0.1067 - val_loss: 0.2650\n",
        "Epoch 9/10\n",
        "498/498 [==============================] - 0s - loss: 0.0929 - val_loss: 0.3726\n",
        "Epoch 10/10\n",
        "498/498 [==============================] - 0s - loss: 0.0967 - val_loss: 0.2667\n",
        "<keras.callbacks.History at 0x7fe404259e48>**\n",
        "\n",
        "    # Try to predict\n",
        "    predictions = lstm.predict_sequences_multiple(model, X_test, 11, 13)\n",
        "    lstm.plot_results_multiple(predictions, y_test, 12)\n",
        "**Amount preedicted:  58  with true data: 58 , and prediction length:  12**\n",
        "\n",
        "![Prediction output][1]\n",
        "\n",
        "\n",
        "  [1]: https://raw.githubusercontent.com/kingburrito666/Ethereum-Blockchain-Analysis/master/prediction.png"
      ]
    },
    {
      "cell_type": "markdown",
      "metadata": {
        "_cell_guid": "d2576195-3c87-b182-a7aa-750a1ed94b5c",
        "_uuid": "e4af6e7d2554d39701d8235d4396be574ff2b71e"
      },
      "source": [
        "# Obviously not the best..."
      ]
    }
  ],
  "metadata": {
    "_change_revision": 0,
    "_is_fork": false,
    "kernelspec": {
      "display_name": "Python 3",
      "language": "python",
      "name": "python3"
    },
    "language_info": {
      "codemirror_mode": {
        "name": "ipython",
        "version": 3
      },
      "file_extension": ".py",
      "mimetype": "text/x-python",
      "name": "python",
      "nbconvert_exporter": "python",
      "pygments_lexer": "ipython3",
      "version": "3.6.0"
    }
  },
  "nbformat": 4,
  "nbformat_minor": 0
}